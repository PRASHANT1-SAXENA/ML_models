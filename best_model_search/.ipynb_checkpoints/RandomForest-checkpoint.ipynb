{
 "cells": [
  {
   "cell_type": "code",
   "execution_count": 1,
   "id": "10d81262",
   "metadata": {},
   "outputs": [],
   "source": [
    "import numpy as np\n",
    "import pandas as pd\n",
    "from sklearn.ensemble import RandomForestRegressor\n",
    "from sklearn.preprocessing import StandardScaler\n",
    "from sklearn.model_selection import train_test_split\n",
    "from sklearn.metrics import mean_squared_error\n",
    "from sklearn.metrics import r2_score\n",
    "from sklearn.gaussian_process.kernels import Matern"
   ]
  },
  {
   "cell_type": "code",
   "execution_count": 2,
   "id": "25609089",
   "metadata": {},
   "outputs": [],
   "source": [
    "# Load data\n",
    "\n",
    "data = pd.read_excel(r'D:/project_data/trial_data2.xlsx')  # replace your reference data here\n",
    "dt = np.array(data)\n",
    "dtx = dt[:,3:9]\n",
    "dty = dt[:,1].reshape(-1,1)\n",
    "scaler = StandardScaler()\n",
    "dtx_std = scaler.fit_transform(dtx)\n",
    "dty_std = scaler.fit_transform(dty)"
   ]
  },
  {
   "cell_type": "code",
   "execution_count": 3,
   "id": "607ae139",
   "metadata": {},
   "outputs": [],
   "source": [
    "# Split data into training and testing sets\n",
    "#x_train, x_test, y_train, y_test = train_test_split(dtx_std,dty_std,test_size=0.3,random_state=0)\n",
    "\n",
    "X_train, X_test, y_train, y_test = train_test_split(dtx_std,dty_std,test_size=0.3,random_state=42)\n"
   ]
  },
  {
   "cell_type": "code",
   "execution_count": 1,
   "id": "d0d0fa91",
   "metadata": {},
   "outputs": [
    {
     "ename": "NameError",
     "evalue": "name 'RandomForestRegressor' is not defined",
     "output_type": "error",
     "traceback": [
      "\u001b[1;31m---------------------------------------------------------------------------\u001b[0m",
      "\u001b[1;31mNameError\u001b[0m                                 Traceback (most recent call last)",
      "Cell \u001b[1;32mIn [1], line 3\u001b[0m\n\u001b[0;32m      1\u001b[0m \u001b[38;5;66;03m# Train random forest model\u001b[39;00m\n\u001b[1;32m----> 3\u001b[0m reg\u001b[38;5;241m=\u001b[39m\u001b[43mRandomForestRegressor\u001b[49m(n_estimators\u001b[38;5;241m=\u001b[39m\u001b[38;5;241m100\u001b[39m, max_depth\u001b[38;5;241m=\u001b[39m\u001b[38;5;241m10\u001b[39m,random_state\u001b[38;5;241m=\u001b[39m\u001b[38;5;241m42\u001b[39m)\n\u001b[0;32m      4\u001b[0m reg\u001b[38;5;241m.\u001b[39mfit(X_train,y_train)\n\u001b[0;32m      5\u001b[0m reg\u001b[38;5;241m.\u001b[39mscore(X_train,y_train)\n",
      "\u001b[1;31mNameError\u001b[0m: name 'RandomForestRegressor' is not defined"
     ]
    }
   ],
   "source": [
    "# Train random forest model\n",
    "\n",
    "reg=RandomForestRegressor(n_estimators=100, max_depth=10,random_state=42)\n",
    "reg.fit(X_train,y_train)\n",
    "reg.score(X_train,y_train)\n",
    "\n",
    "#y_pred, y_std = reg.predict(X_test,return_std=True)\n",
    "y_pred= reg.predict(X_test)\n",
    "#y_pred1 = scaler.inverse_transform(y_pred.reshape(-1, 1) )\n",
    "#y_test1 = scaler.inverse_transform(y_test)\n"
   ]
  },
  {
   "cell_type": "code",
   "execution_count": null,
   "id": "2b4220c0",
   "metadata": {},
   "outputs": [],
   "source": [
    "# Evaluate model on test set\n",
    "y_pred = reg.predict(X_test)\n",
    "mse = mean_squared_error(y_test, y_pred)\n",
    "r2 = r2_score(y_test, y_pred)\n",
    "print(f\"R squared: {r2:.2f}\")\n",
    "print(f\"Mean squared error: {mse:.2f}\")"
   ]
  },
  {
   "cell_type": "code",
   "execution_count": 2,
   "id": "02551347",
   "metadata": {},
   "outputs": [
    {
     "ename": "NameError",
     "evalue": "name 'X_test' is not defined",
     "output_type": "error",
     "traceback": [
      "\u001b[1;31m---------------------------------------------------------------------------\u001b[0m",
      "\u001b[1;31mNameError\u001b[0m                                 Traceback (most recent call last)",
      "Cell \u001b[1;32mIn[2], line 3\u001b[0m\n\u001b[0;32m      1\u001b[0m \u001b[38;5;28;01mimport\u001b[39;00m \u001b[38;5;21;01mmatplotlib\u001b[39;00m\u001b[38;5;21;01m.\u001b[39;00m\u001b[38;5;21;01mpyplot\u001b[39;00m \u001b[38;5;28;01mas\u001b[39;00m \u001b[38;5;21;01mplt\u001b[39;00m\n\u001b[0;32m      2\u001b[0m plt\u001b[38;5;241m.\u001b[39mrcParams[\u001b[38;5;124m'\u001b[39m\u001b[38;5;124mfigure.figsize\u001b[39m\u001b[38;5;124m'\u001b[39m]\u001b[38;5;241m=\u001b[39m(\u001b[38;5;241m10\u001b[39m,\u001b[38;5;241m6\u001b[39m)\n\u001b[1;32m----> 3\u001b[0m x_ax\u001b[38;5;241m=\u001b[39m\u001b[38;5;28mrange\u001b[39m(\u001b[38;5;28mlen\u001b[39m(\u001b[43mX_test\u001b[49m))\n\u001b[0;32m      4\u001b[0m plt\u001b[38;5;241m.\u001b[39mplot(x_ax,y_test,label\u001b[38;5;241m=\u001b[39m\u001b[38;5;124m'\u001b[39m\u001b[38;5;124mObserved\u001b[39m\u001b[38;5;124m'\u001b[39m,color\u001b[38;5;241m=\u001b[39m\u001b[38;5;124m'\u001b[39m\u001b[38;5;124mk\u001b[39m\u001b[38;5;124m'\u001b[39m,linestyle\u001b[38;5;241m=\u001b[39m\u001b[38;5;124m'\u001b[39m\u001b[38;5;124m-\u001b[39m\u001b[38;5;124m'\u001b[39m)\n\u001b[0;32m      5\u001b[0m plt\u001b[38;5;241m.\u001b[39mplot(x_ax,y_pred,label\u001b[38;5;241m=\u001b[39m\u001b[38;5;124m'\u001b[39m\u001b[38;5;124mPredicted\u001b[39m\u001b[38;5;124m'\u001b[39m,color\u001b[38;5;241m=\u001b[39m\u001b[38;5;124m'\u001b[39m\u001b[38;5;124mr\u001b[39m\u001b[38;5;124m'\u001b[39m,linestyle\u001b[38;5;241m=\u001b[39m\u001b[38;5;124m'\u001b[39m\u001b[38;5;124m-\u001b[39m\u001b[38;5;124m'\u001b[39m)\n",
      "\u001b[1;31mNameError\u001b[0m: name 'X_test' is not defined"
     ]
    }
   ],
   "source": [
    "import matplotlib.pyplot as plt\n",
    "plt.rcParams['figure.figsize']=(10,6)\n",
    "x_ax=range(len(X_test))\n",
    "plt.plot(x_ax,y_test,label='Observed',color='k',linestyle='-')\n",
    "plt.plot(x_ax,y_pred,label='Predicted',color='r',linestyle='-')\n",
    "plt.xlabel('Testing Sample data')\n",
    "plt.ylabel('')\n",
    "plt.legend(bbox_to_anchor=(0.5,0),loc='lower center', ncol=2,frameon=False)"
   ]
  },
  {
   "cell_type": "code",
   "execution_count": 3,
   "id": "2cd0bbf5",
   "metadata": {},
   "outputs": [
    {
     "ename": "NameError",
     "evalue": "name 'LL_rf' is not defined",
     "output_type": "error",
     "traceback": [
      "\u001b[1;31m---------------------------------------------------------------------------\u001b[0m",
      "\u001b[1;31mNameError\u001b[0m                                 Traceback (most recent call last)",
      "Cell \u001b[1;32mIn[3], line 2\u001b[0m\n\u001b[0;32m      1\u001b[0m \u001b[38;5;28;01mfrom\u001b[39;00m \u001b[38;5;21;01myellowbrick\u001b[39;00m\u001b[38;5;21;01m.\u001b[39;00m\u001b[38;5;21;01mregressor\u001b[39;00m \u001b[38;5;28;01mimport\u001b[39;00m PredictionError\n\u001b[1;32m----> 2\u001b[0m visualizer \u001b[38;5;241m=\u001b[39mPredictionError(\u001b[43mLL_rf\u001b[49m)\n\u001b[0;32m      3\u001b[0m visualizer\u001b[38;5;241m.\u001b[39mfit(X_train,y_train)\n",
      "\u001b[1;31mNameError\u001b[0m: name 'LL_rf' is not defined"
     ]
    }
   ],
   "source": [
    "from yellowbrick.regressor import PredictionError\n",
    "visualizer =PredictionError(LL_rf)\n",
    "visualizer.fit(X_train,y_train)"
   ]
  },
  {
   "cell_type": "code",
   "execution_count": 4,
   "id": "3ba8c134",
   "metadata": {},
   "outputs": [
    {
     "ename": "NameError",
     "evalue": "name 'reg' is not defined",
     "output_type": "error",
     "traceback": [
      "\u001b[1;31m---------------------------------------------------------------------------\u001b[0m",
      "\u001b[1;31mNameError\u001b[0m                                 Traceback (most recent call last)",
      "Cell \u001b[1;32mIn[4], line 1\u001b[0m\n\u001b[1;32m----> 1\u001b[0m BH_pred \u001b[38;5;241m=\u001b[39m \u001b[43mreg\u001b[49m\u001b[38;5;241m.\u001b[39mpredict(dtx_std)\n\u001b[0;32m      2\u001b[0m BH_pred1 \u001b[38;5;241m=\u001b[39m scaler\u001b[38;5;241m.\u001b[39minverse_transform(BH_pred\u001b[38;5;241m.\u001b[39mreshape(\u001b[38;5;241m-\u001b[39m\u001b[38;5;241m1\u001b[39m, \u001b[38;5;241m1\u001b[39m) )\n",
      "\u001b[1;31mNameError\u001b[0m: name 'reg' is not defined"
     ]
    }
   ],
   "source": [
    "BH_pred = reg.predict(dtx_std)\n",
    "BH_pred1 = scaler.inverse_transform(BH_pred.reshape(-1, 1) )"
   ]
  },
  {
   "cell_type": "code",
   "execution_count": 41,
   "id": "4c434730",
   "metadata": {},
   "outputs": [
    {
     "name": "stderr",
     "output_type": "stream",
     "text": [
      "C:\\Users\\admin\\AppData\\Local\\Temp\\ipykernel_11020\\3186019481.py:5: FutureWarning: save is not part of the public API, usage can give unexpected results and will be removed in a future version\n",
      "  writer.save()\n"
     ]
    }
   ],
   "source": [
    "# write the prediction results into Excel table\n",
    "output = pd.DataFrame(np.hstack([np.array(data.fid).reshape(-1,1),np.array(BH_pred1).reshape(-1,1)]))#,np.array(data.XCO).reshape(-1,1),np.array(data.YCO).reshape(-1,1),np.array(BH_pred1).reshape(-1,1)]))\n",
    "writer = pd.ExcelWriter(r'D:/project_data/prediction_BH_RF.xlsx')\n",
    "output.to_excel(writer,'page_1',float_format='%.5f')\n",
    "writer.save()"
   ]
  },
  {
   "cell_type": "code",
   "execution_count": null,
   "id": "61172134",
   "metadata": {},
   "outputs": [],
   "source": []
  }
 ],
 "metadata": {
  "kernelspec": {
   "display_name": "Python 3 (ipykernel)",
   "language": "python",
   "name": "python3"
  },
  "language_info": {
   "codemirror_mode": {
    "name": "ipython",
    "version": 3
   },
   "file_extension": ".py",
   "mimetype": "text/x-python",
   "name": "python",
   "nbconvert_exporter": "python",
   "pygments_lexer": "ipython3",
   "version": "3.9.13"
  }
 },
 "nbformat": 4,
 "nbformat_minor": 5
}
